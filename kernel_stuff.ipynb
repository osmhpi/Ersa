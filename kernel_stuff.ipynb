{
 "cells": [
  {
   "cell_type": "code",
   "execution_count": 2,
   "metadata": {},
   "outputs": [],
   "source": [
    "from jupyter_client import MultiKernelManager\n",
    "from tqdm.notebook import tqdm"
   ]
  },
  {
   "cell_type": "code",
   "execution_count": 3,
   "metadata": {},
   "outputs": [],
   "source": [
    "def get_output(client, msg_id):\n",
    "    from queue import Empty\n",
    "    try:\n",
    "        while True:\n",
    "            message = client.get_iopub_msg(timeout=10)\n",
    "            if message[\"parent_header\"][\"msg_id\"] != msg_id:\n",
    "                continue\n",
    "            if message[\"header\"][\"msg_type\"] != \"stream\":\n",
    "                continue\n",
    "            content = message[\"content\"]\n",
    "            if content[\"name\"] != \"stdout\":\n",
    "                continue\n",
    "            return content[\"text\"].strip()\n",
    "    except Empty as e:\n",
    "        return None"
   ]
  },
  {
   "cell_type": "code",
   "execution_count": 4,
   "metadata": {},
   "outputs": [],
   "source": [
    "def get_result(client):\n",
    "    msg_id = client.execute(\"print(result)\")\n",
    "    return get_output(client, msg_id)\n",
    "\n",
    "def get_duration(client):\n",
    "    msg_id = client.execute(\"print(duration)\")\n",
    "    return get_output(client, msg_id)"
   ]
  },
  {
   "cell_type": "code",
   "execution_count": 5,
   "metadata": {},
   "outputs": [],
   "source": [
    "from pathlib import Path\n",
    "code = Path(\"benchmarks/roberta_finetuning.py\").read_text()"
   ]
  },
  {
   "cell_type": "code",
   "execution_count": 6,
   "metadata": {},
   "outputs": [],
   "source": [
    "mkm = MultiKernelManager()"
   ]
  },
  {
   "cell_type": "code",
   "execution_count": 7,
   "metadata": {},
   "outputs": [],
   "source": [
    "num_kernels = 11\n",
    "kernels = [mkm.get_kernel(mkm.start_kernel()) for _ in range(num_kernels)]\n",
    "clients = [kernel.client() for kernel in kernels]"
   ]
  },
  {
   "cell_type": "code",
   "execution_count": 9,
   "metadata": {},
   "outputs": [
    {
     "data": {
      "text/plain": [
       "[119552,\n",
       " 119555,\n",
       " 119556,\n",
       " 119557,\n",
       " 119558,\n",
       " 119559,\n",
       " 119560,\n",
       " 119561,\n",
       " 119562,\n",
       " 119563,\n",
       " 119564]"
      ]
     },
     "execution_count": 9,
     "metadata": {},
     "output_type": "execute_result"
    }
   ],
   "source": [
    "[kernel.provisioner.process.pid for kernel in kernels]"
   ]
  },
  {
   "cell_type": "code",
   "execution_count": 16,
   "metadata": {},
   "outputs": [
    {
     "data": {
      "text/plain": [
       "[True, True, True, True, True, True, True, True, True, True, True]"
      ]
     },
     "execution_count": 16,
     "metadata": {},
     "output_type": "execute_result"
    }
   ],
   "source": [
    "[kernel.provisioner.process.poll() is None for kernel in kernels]"
   ]
  },
  {
   "cell_type": "code",
   "execution_count": 7,
   "metadata": {},
   "outputs": [
    {
     "data": {
      "application/vnd.jupyter.widget-view+json": {
       "model_id": "ef64d7d5303845e28659b8b117a85c7e",
       "version_major": 2,
       "version_minor": 0
      },
      "text/plain": [
       "  0%|          | 0/11 [00:00<?, ?it/s]"
      ]
     },
     "metadata": {},
     "output_type": "display_data"
    },
    {
     "name": "stdout",
     "output_type": "stream",
     "text": [
      "0.475 10.826914548873901\n",
      "0.25 11.057157039642334\n",
      "0.425 10.537917852401733\n",
      "0.225 10.454579830169678\n",
      "0.675 10.310715675354004\n",
      "0.7 10.794390678405762\n",
      "0.225 10.732997179031372\n",
      "0.225 10.505618572235107\n",
      "out of memory 7.129721403121948\n",
      "out of memory 5.981494903564453\n",
      "out of memory 7.051535367965698\n"
     ]
    }
   ],
   "source": [
    "results = []\n",
    "durations = []\n",
    "for index, client in enumerate(tqdm(clients)):\n",
    "    client.execute(code, reply=True)\n",
    "    result = get_result(client)\n",
    "    duration = get_duration(client)\n",
    "    results.append(result)\n",
    "    durations.append(duration)\n",
    "    tqdm.write(f\"{result} {duration}\")"
   ]
  },
  {
   "cell_type": "code",
   "execution_count": 8,
   "metadata": {},
   "outputs": [
    {
     "data": {
      "text/plain": [
       "['0.475',\n",
       " '0.25',\n",
       " '0.425',\n",
       " '0.225',\n",
       " '0.675',\n",
       " '0.7',\n",
       " '0.225',\n",
       " '0.225',\n",
       " 'out of memory',\n",
       " 'out of memory',\n",
       " 'out of memory']"
      ]
     },
     "execution_count": 8,
     "metadata": {},
     "output_type": "execute_result"
    }
   ],
   "source": [
    "results"
   ]
  },
  {
   "cell_type": "code",
   "execution_count": 10,
   "metadata": {},
   "outputs": [
    {
     "ename": "",
     "evalue": "",
     "output_type": "error",
     "traceback": [
      "\u001b[1;31mThe Kernel crashed while executing code in the current cell or a previous cell. \n",
      "\u001b[1;31mPlease review the code in the cell(s) to identify a possible cause of the failure. \n",
      "\u001b[1;31mClick <a href='https://aka.ms/vscodeJupyterKernelCrash'>here</a> for more info. \n",
      "\u001b[1;31mView Jupyter <a href='command:jupyter.viewOutput'>log</a> for further details."
     ]
    }
   ],
   "source": [
    "mkm.shutdown_all()"
   ]
  },
  {
   "cell_type": "code",
   "execution_count": 10,
   "metadata": {},
   "outputs": [],
   "source": [
    "# len(clients)\n",
    "# for kernel in kernels:\n",
    "#     print(kernel.is_alive())\n",
    "#     for client in clients:\n",
    "#     print(client.is_alive())"
   ]
  }
 ],
 "metadata": {
  "kernelspec": {
   "display_name": "venv",
   "language": "python",
   "name": "python3"
  },
  "language_info": {
   "codemirror_mode": {
    "name": "ipython",
    "version": 3
   },
   "file_extension": ".py",
   "mimetype": "text/x-python",
   "name": "python",
   "nbconvert_exporter": "python",
   "pygments_lexer": "ipython3",
   "version": "3.10.6"
  }
 },
 "nbformat": 4,
 "nbformat_minor": 2
}
