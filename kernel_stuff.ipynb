{
 "cells": [
  {
   "cell_type": "code",
   "execution_count": null,
   "metadata": {},
   "outputs": [],
   "source": [
    "from jupyter_client import MultiKernelManager\n",
    "from tqdm.notebook import tqdm"
   ]
  },
  {
   "cell_type": "code",
   "execution_count": null,
   "metadata": {},
   "outputs": [],
   "source": [
    "def get_output(client, msg_id):\n",
    "    from queue import Empty\n",
    "    try:\n",
    "        while True:\n",
    "            message = client.get_iopub_msg(timeout=10)\n",
    "            if message[\"parent_header\"][\"msg_id\"] != msg_id:\n",
    "                continue\n",
    "            if message[\"header\"][\"msg_type\"] != \"stream\":\n",
    "                continue\n",
    "            content = message[\"content\"]\n",
    "            if content[\"name\"] != \"stdout\":\n",
    "                continue\n",
    "            return content[\"text\"].strip()\n",
    "    except Empty as e:\n",
    "        return None"
   ]
  },
  {
   "cell_type": "code",
   "execution_count": null,
   "metadata": {},
   "outputs": [],
   "source": [
    "def get_result(client):\n",
    "    msg_id = client.execute(\"print(result)\")\n",
    "    return get_output(client, msg_id)\n",
    "\n",
    "def get_duration(client):\n",
    "    msg_id = client.execute(\"print(duration)\")\n",
    "    return get_output(client, msg_id)"
   ]
  },
  {
   "cell_type": "code",
   "execution_count": null,
   "metadata": {},
   "outputs": [],
   "source": [
    "from pathlib import Path\n",
    "code = Path(\"benchmarks/roberta_finetuning.py\").read_text()"
   ]
  },
  {
   "cell_type": "code",
   "execution_count": null,
   "metadata": {},
   "outputs": [],
   "source": [
    "mkm = MultiKernelManager()"
   ]
  },
  {
   "cell_type": "code",
   "execution_count": null,
   "metadata": {},
   "outputs": [],
   "source": [
    "num_kernels = 11\n",
    "kernels = [mkm.get_kernel(mkm.start_kernel()) for _ in range(num_kernels)]\n",
    "clients = [kernel.client() for kernel in kernels]"
   ]
  },
  {
   "cell_type": "code",
   "execution_count": null,
   "metadata": {},
   "outputs": [],
   "source": [
    "[kernel.provisioner.process.pid for kernel in kernels]"
   ]
  },
  {
   "cell_type": "code",
   "execution_count": null,
   "metadata": {},
   "outputs": [],
   "source": [
    "[kernel.provisioner.process.poll() is None for kernel in kernels]"
   ]
  },
  {
   "cell_type": "code",
   "execution_count": null,
   "metadata": {},
   "outputs": [],
   "source": [
    "results = []\n",
    "durations = []\n",
    "for index, client in enumerate(tqdm(clients)):\n",
    "    client.execute(code, reply=True)\n",
    "    result = get_result(client)\n",
    "    duration = get_duration(client)\n",
    "    results.append(result)\n",
    "    durations.append(duration)\n",
    "    tqdm.write(f\"{result} {duration}\")"
   ]
  },
  {
   "cell_type": "code",
   "execution_count": null,
   "metadata": {},
   "outputs": [],
   "source": [
    "results"
   ]
  },
  {
   "cell_type": "code",
   "execution_count": null,
   "metadata": {},
   "outputs": [],
   "source": [
    "mkm.shutdown_all()"
   ]
  },
  {
   "cell_type": "code",
   "execution_count": null,
   "metadata": {},
   "outputs": [],
   "source": [
    "# len(clients)\n",
    "# for kernel in kernels:\n",
    "#     print(kernel.is_alive())\n",
    "#     for client in clients:\n",
    "#     print(client.is_alive())"
   ]
  }
 ],
 "metadata": {
  "kernelspec": {
   "display_name": "venv",
   "language": "python",
   "name": "python3"
  },
  "language_info": {
   "codemirror_mode": {
    "name": "ipython",
    "version": 3
   },
   "file_extension": ".py",
   "mimetype": "text/x-python",
   "name": "python",
   "nbconvert_exporter": "python",
   "pygments_lexer": "ipython3",
   "version": "3.10.6"
  }
 },
 "nbformat": 4,
 "nbformat_minor": 2
}
