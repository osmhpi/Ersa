{
 "cells": [
  {
   "cell_type": "code",
   "execution_count": 1,
   "id": "597d0c6e",
   "metadata": {},
   "outputs": [],
   "source": [
    "from multiprocessing.connection import Listener\n",
    "from multiprocessing import Process, Queue\n",
    "from datetime import datetime"
   ]
  },
  {
   "cell_type": "code",
   "execution_count": 2,
   "id": "21a2cec9",
   "metadata": {},
   "outputs": [],
   "source": [
    "_remote_ = True"
   ]
  },
  {
   "cell_type": "code",
   "execution_count": 3,
   "id": "5aff774d",
   "metadata": {},
   "outputs": [],
   "source": [
    "def reexecute_and_train(state_file, cell):\n",
    "    import dill\n",
    "    global _remote_\n",
    "    filename = f\"model-{datetime.now().isoformat()}\"\n",
    "    _remote_ = filename\n",
    "    # globals()[func_name] = globals()[func_name].original\n",
    "    # globals()[func_name].original\n",
    "    dill.load_module(state_file)\n",
    "    # if globals().get(\"_remote_\"):\n",
    "    #     print(\"remote = True\")\n",
    "    # print(\"executing\", cell)\n",
    "    exec(cell)\n",
    "    # dill.dump_module(filename)\n",
    "    # exec(\"model = train(model)\")\n",
    "    del _remote_\n",
    "    return filename"
   ]
  },
  {
   "cell_type": "code",
   "execution_count": 4,
   "id": "13d1e8bc",
   "metadata": {},
   "outputs": [],
   "source": [
    "def execute_in_subprocess(state_file, cell):\n",
    "    def reexecute_and_train_in_subprocess(state_file, cell, queue):\n",
    "        filename = reexecute_and_train(state_file, cell)\n",
    "        queue.put(filename)\n",
    "    \n",
    "    queue = Queue()\n",
    "    p = Process(target=reexecute_and_train_in_subprocess, args=(state_file, cell, queue))\n",
    "    p.start()\n",
    "    p.join() # this blocks until the process terminates\n",
    "    filename = queue.get()\n",
    "    return filename"
   ]
  },
  {
   "cell_type": "code",
   "execution_count": 5,
   "id": "e6d57424",
   "metadata": {},
   "outputs": [
    {
     "name": "stdout",
     "output_type": "stream",
     "text": [
      "Epoch: 0 | Loss: 1.6425 | Train Accuracy: 82.27\n",
      "Epoch: 1 | Loss: 1.5125 | Train Accuracy: 95.23\n",
      "Epoch: 2 | Loss: 1.4834 | Train Accuracy: 98.04\n"
     ]
    }
   ],
   "source": [
    "from multiprocessing.connection import Listener\n",
    "from multiprocessing import Process, Queue\n",
    "\n",
    "address = ('localhost', 6001)     # family is deduced to be 'AF_INET'\n",
    "listener = Listener(address, authkey=b'secret password')\n",
    "try:\n",
    "    while True:\n",
    "        conn = listener.accept()\n",
    "        state_file = conn.recv()\n",
    "        cell = conn.recv()\n",
    "        filename = execute_in_subprocess(state_file, cell)\n",
    "        conn.send(filename)\n",
    "finally:\n",
    "    listener.close()"
   ]
  },
  {
   "cell_type": "code",
   "execution_count": null,
   "id": "055a1fb4",
   "metadata": {},
   "outputs": [],
   "source": []
  }
 ],
 "metadata": {
  "kernelspec": {
   "display_name": "Python 3 (ipykernel)",
   "language": "python",
   "name": "python3"
  },
  "language_info": {
   "codemirror_mode": {
    "name": "ipython",
    "version": 3
   },
   "file_extension": ".py",
   "mimetype": "text/x-python",
   "name": "python",
   "nbconvert_exporter": "python",
   "pygments_lexer": "ipython3",
   "version": "3.10.6"
  }
 },
 "nbformat": 4,
 "nbformat_minor": 5
}
