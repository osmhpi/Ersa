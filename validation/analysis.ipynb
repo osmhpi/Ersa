{
 "cells": [
  {
   "cell_type": "code",
   "execution_count": 1,
   "metadata": {},
   "outputs": [],
   "source": [
    "import pandas as pd\n",
    "import matplotlib.pyplot as plt\n",
    "import numpy as np"
   ]
  },
  {
   "cell_type": "code",
   "execution_count": 2,
   "metadata": {},
   "outputs": [],
   "source": [
    "data = pd.read_csv(\"data.log\")"
   ]
  },
  {
   "cell_type": "code",
   "execution_count": 3,
   "metadata": {},
   "outputs": [],
   "source": [
    "data[\"timestamp\"] = pd.to_datetime(data[\"timestamp\"])"
   ]
  },
  {
   "cell_type": "code",
   "execution_count": 4,
   "metadata": {},
   "outputs": [
    {
     "data": {
      "text/html": [
       "<div>\n",
       "<style scoped>\n",
       "    .dataframe tbody tr th:only-of-type {\n",
       "        vertical-align: middle;\n",
       "    }\n",
       "\n",
       "    .dataframe tbody tr th {\n",
       "        vertical-align: top;\n",
       "    }\n",
       "\n",
       "    .dataframe thead th {\n",
       "        text-align: right;\n",
       "    }\n",
       "</style>\n",
       "<table border=\"1\" class=\"dataframe\">\n",
       "  <thead>\n",
       "    <tr style=\"text-align: right;\">\n",
       "      <th></th>\n",
       "      <th>timestamp</th>\n",
       "      <th>event</th>\n",
       "      <th>version</th>\n",
       "      <th>model</th>\n",
       "    </tr>\n",
       "  </thead>\n",
       "  <tbody>\n",
       "    <tr>\n",
       "      <th>10</th>\n",
       "      <td>2023-12-04 13:42:20.216760</td>\n",
       "      <td>pickling start</td>\n",
       "      <td>0.0.4</td>\n",
       "      <td>roberta_finetune</td>\n",
       "    </tr>\n",
       "    <tr>\n",
       "      <th>11</th>\n",
       "      <td>2023-12-04 13:42:20.664533</td>\n",
       "      <td>pickling finished</td>\n",
       "      <td>0.0.4</td>\n",
       "      <td>roberta_finetune</td>\n",
       "    </tr>\n",
       "    <tr>\n",
       "      <th>12</th>\n",
       "      <td>2023-12-04 13:42:20.664731</td>\n",
       "      <td>sending job start</td>\n",
       "      <td>0.0.4</td>\n",
       "      <td>roberta_finetune</td>\n",
       "    </tr>\n",
       "    <tr>\n",
       "      <th>13</th>\n",
       "      <td>2023-12-04 13:42:32.101606</td>\n",
       "      <td>sending job finished</td>\n",
       "      <td>0.0.4</td>\n",
       "      <td>roberta_finetune</td>\n",
       "    </tr>\n",
       "    <tr>\n",
       "      <th>14</th>\n",
       "      <td>2023-12-04 13:42:34.925917</td>\n",
       "      <td>processing job started</td>\n",
       "      <td>0.0.4</td>\n",
       "      <td>roberta_finetune</td>\n",
       "    </tr>\n",
       "    <tr>\n",
       "      <th>15</th>\n",
       "      <td>2023-12-04 13:43:07.783670</td>\n",
       "      <td>processing job finished</td>\n",
       "      <td>0.0.4</td>\n",
       "      <td>roberta_finetune</td>\n",
       "    </tr>\n",
       "    <tr>\n",
       "      <th>16</th>\n",
       "      <td>2023-12-04 13:43:07.784017</td>\n",
       "      <td>retrieving weights from remote started</td>\n",
       "      <td>0.0.4</td>\n",
       "      <td>roberta_finetune</td>\n",
       "    </tr>\n",
       "    <tr>\n",
       "      <th>17</th>\n",
       "      <td>2023-12-04 13:43:22.753534</td>\n",
       "      <td>retrieving weights from remote finished</td>\n",
       "      <td>0.0.4</td>\n",
       "      <td>roberta_finetune</td>\n",
       "    </tr>\n",
       "    <tr>\n",
       "      <th>18</th>\n",
       "      <td>2023-12-04 13:43:22.753725</td>\n",
       "      <td>loading weights started</td>\n",
       "      <td>0.0.4</td>\n",
       "      <td>roberta_finetune</td>\n",
       "    </tr>\n",
       "    <tr>\n",
       "      <th>19</th>\n",
       "      <td>2023-12-04 13:43:22.886971</td>\n",
       "      <td>loading weights finished</td>\n",
       "      <td>0.0.4</td>\n",
       "      <td>roberta_finetune</td>\n",
       "    </tr>\n",
       "  </tbody>\n",
       "</table>\n",
       "</div>"
      ],
      "text/plain": [
       "                    timestamp                                    event  \\\n",
       "10 2023-12-04 13:42:20.216760                           pickling start   \n",
       "11 2023-12-04 13:42:20.664533                        pickling finished   \n",
       "12 2023-12-04 13:42:20.664731                        sending job start   \n",
       "13 2023-12-04 13:42:32.101606                     sending job finished   \n",
       "14 2023-12-04 13:42:34.925917                   processing job started   \n",
       "15 2023-12-04 13:43:07.783670                  processing job finished   \n",
       "16 2023-12-04 13:43:07.784017   retrieving weights from remote started   \n",
       "17 2023-12-04 13:43:22.753534  retrieving weights from remote finished   \n",
       "18 2023-12-04 13:43:22.753725                  loading weights started   \n",
       "19 2023-12-04 13:43:22.886971                 loading weights finished   \n",
       "\n",
       "   version             model  \n",
       "10   0.0.4  roberta_finetune  \n",
       "11   0.0.4  roberta_finetune  \n",
       "12   0.0.4  roberta_finetune  \n",
       "13   0.0.4  roberta_finetune  \n",
       "14   0.0.4  roberta_finetune  \n",
       "15   0.0.4  roberta_finetune  \n",
       "16   0.0.4  roberta_finetune  \n",
       "17   0.0.4  roberta_finetune  \n",
       "18   0.0.4  roberta_finetune  \n",
       "19   0.0.4  roberta_finetune  "
      ]
     },
     "execution_count": 4,
     "metadata": {},
     "output_type": "execute_result"
    }
   ],
   "source": [
    "data = data[data.model == \"roberta_finetune\"]\n",
    "data"
   ]
  },
  {
   "cell_type": "code",
   "execution_count": 5,
   "metadata": {},
   "outputs": [
    {
     "data": {
      "text/html": [
       "<div>\n",
       "<style scoped>\n",
       "    .dataframe tbody tr th:only-of-type {\n",
       "        vertical-align: middle;\n",
       "    }\n",
       "\n",
       "    .dataframe tbody tr th {\n",
       "        vertical-align: top;\n",
       "    }\n",
       "\n",
       "    .dataframe thead th {\n",
       "        text-align: right;\n",
       "    }\n",
       "</style>\n",
       "<table border=\"1\" class=\"dataframe\">\n",
       "  <thead>\n",
       "    <tr style=\"text-align: right;\">\n",
       "      <th></th>\n",
       "      <th>event</th>\n",
       "      <th>version</th>\n",
       "      <th>model</th>\n",
       "      <th>begin</th>\n",
       "      <th>end</th>\n",
       "      <th>duration</th>\n",
       "    </tr>\n",
       "  </thead>\n",
       "  <tbody>\n",
       "    <tr>\n",
       "      <th>10</th>\n",
       "      <td>pickling</td>\n",
       "      <td>0.0.4</td>\n",
       "      <td>roberta_finetune</td>\n",
       "      <td>0.000000</td>\n",
       "      <td>0.447773</td>\n",
       "      <td>0.447773</td>\n",
       "    </tr>\n",
       "    <tr>\n",
       "      <th>12</th>\n",
       "      <td>sending job</td>\n",
       "      <td>0.0.4</td>\n",
       "      <td>roberta_finetune</td>\n",
       "      <td>0.447971</td>\n",
       "      <td>11.884846</td>\n",
       "      <td>11.436875</td>\n",
       "    </tr>\n",
       "    <tr>\n",
       "      <th>14</th>\n",
       "      <td>processing job</td>\n",
       "      <td>0.0.4</td>\n",
       "      <td>roberta_finetune</td>\n",
       "      <td>14.709157</td>\n",
       "      <td>47.566910</td>\n",
       "      <td>32.857753</td>\n",
       "    </tr>\n",
       "    <tr>\n",
       "      <th>16</th>\n",
       "      <td>retrieving weights from remote</td>\n",
       "      <td>0.0.4</td>\n",
       "      <td>roberta_finetune</td>\n",
       "      <td>47.567257</td>\n",
       "      <td>62.536774</td>\n",
       "      <td>14.969517</td>\n",
       "    </tr>\n",
       "    <tr>\n",
       "      <th>18</th>\n",
       "      <td>loading weights</td>\n",
       "      <td>0.0.4</td>\n",
       "      <td>roberta_finetune</td>\n",
       "      <td>62.536965</td>\n",
       "      <td>62.670211</td>\n",
       "      <td>0.133246</td>\n",
       "    </tr>\n",
       "  </tbody>\n",
       "</table>\n",
       "</div>"
      ],
      "text/plain": [
       "                             event version             model      begin  \\\n",
       "10                        pickling   0.0.4  roberta_finetune   0.000000   \n",
       "12                     sending job   0.0.4  roberta_finetune   0.447971   \n",
       "14                  processing job   0.0.4  roberta_finetune  14.709157   \n",
       "16  retrieving weights from remote   0.0.4  roberta_finetune  47.567257   \n",
       "18                 loading weights   0.0.4  roberta_finetune  62.536965   \n",
       "\n",
       "          end   duration  \n",
       "10   0.447773   0.447773  \n",
       "12  11.884846  11.436875  \n",
       "14  47.566910  32.857753  \n",
       "16  62.536774  14.969517  \n",
       "18  62.670211   0.133246  "
      ]
     },
     "execution_count": 5,
     "metadata": {},
     "output_type": "execute_result"
    }
   ],
   "source": [
    "df_merged = pd.concat([data, data.shift(-1).add_prefix(\"end_\")], axis=1)\n",
    "df_merged = df_merged.iloc[::2]\n",
    "start = df_merged.iloc[0][\"timestamp\"]\n",
    "df_merged[\"begin\"] = (df_merged[\"timestamp\"] - start).apply(lambda x: x.total_seconds())\n",
    "df_merged[\"end\"] = (df_merged[\"end_timestamp\"] - start).apply(\n",
    "    lambda x: x.total_seconds()\n",
    ")\n",
    "df_merged[\"event\"] = df_merged[\"event\"].apply(lambda x: \" \".join(x.split(\" \")[:-1]))\n",
    "df_merged[\"duration\"] = df_merged[\"end\"] - df_merged[\"begin\"]\n",
    "df_merged.drop(\n",
    "    columns=list(df_merged.filter(regex=\"end_\")) + [\"timestamp\"], inplace=True\n",
    ")\n",
    "\n",
    "data = df_merged\n",
    "data"
   ]
  },
  {
   "cell_type": "code",
   "execution_count": 6,
   "metadata": {},
   "outputs": [
    {
     "name": "stderr",
     "output_type": "stream",
     "text": [
      "/tmp/ipykernel_14097/495196297.py:2: MatplotlibDeprecationWarning: The seaborn styles shipped by Matplotlib are deprecated since 3.6, as they no longer correspond to the styles shipped by seaborn. However, they will remain available as 'seaborn-v0_8-<style>'. Alternatively, directly use the seaborn API instead.\n",
      "  plt.style.use(\"seaborn-colorblind\")\n"
     ]
    }
   ],
   "source": [
    "# plt.rcParams['image.cmap'] = \"seaborn-v0_8-colorblind\"\n",
    "plt.style.use(\"seaborn-colorblind\")"
   ]
  },
  {
   "cell_type": "code",
   "execution_count": 7,
   "metadata": {},
   "outputs": [
    {
     "data": {
      "text/plain": [
       "(26.987411, 82.1340735016177)"
      ]
     },
     "execution_count": 7,
     "metadata": {},
     "output_type": "execute_result"
    }
   ],
   "source": [
    "overhead_abs = data[data[\"event\"] != \"processing job\"].sum()[\"duration\"]\n",
    "overhead_rel = (\n",
    "    data[data[\"event\"] != \"processing job\"].sum()[\"duration\"]\n",
    "    / data[data[\"event\"] == \"processing job\"][\"duration\"]\n",
    ")\n",
    "overhead_rel = overhead_rel.iloc[0]\n",
    "overhead_abs, overhead_rel * 100"
   ]
  },
  {
   "cell_type": "code",
   "execution_count": 8,
   "metadata": {},
   "outputs": [
    {
     "data": {
      "text/plain": [
       "<matplotlib.legend.Legend at 0x7f7499abaec0>"
      ]
     },
     "execution_count": 8,
     "metadata": {},
     "output_type": "execute_result"
    },
    {
     "data": {
      "image/png": "[encoded data removed]",
      "text/plain": [
       "<Figure size 640x480 with 1 Axes>"
      ]
     },
     "metadata": {},
     "output_type": "display_data"
    }
   ],
   "source": [
    "# plt.plot(data[\"timestamp\"])\n",
    "for index, row in data.iloc[:-1].iterrows():\n",
    "    plt.barh(\n",
    "        left=row[\"begin\"], width=row[\"duration\"], height=1, y=0, label=row[\"event\"]\n",
    "    )\n",
    "\n",
    "plt.y\n",
    "plt.legend()"
   ]
  },
  {
   "cell_type": "code",
   "execution_count": 9,
   "metadata": {},
   "outputs": [
    {
     "data": {
      "text/plain": [
       "<Axes: >"
      ]
     },
     "execution_count": 9,
     "metadata": {},
     "output_type": "execute_result"
    },
    {
     "data": {
      "image/png": "[encoded data removed]",
      "text/plain": [
       "<Figure size 640x480 with 1 Axes>"
      ]
     },
     "metadata": {},
     "output_type": "display_data"
    }
   ],
   "source": [
    "data.plot()"
   ]
  },
  {
   "cell_type": "code",
   "execution_count": null,
   "metadata": {},
   "outputs": [],
   "source": []
  }
 ],
 "metadata": {
  "kernelspec": {
   "display_name": ".venv",
   "language": "python",
   "name": "python3"
  },
  "language_info": {
   "codemirror_mode": {
    "name": "ipython",
    "version": 3
   },
   "file_extension": ".py",
   "mimetype": "text/x-python",
   "name": "python",
   "nbconvert_exporter": "python",
   "pygments_lexer": "ipython3",
   "version": "3.10.6"
  },
  "orig_nbformat": 4
 },
 "nbformat": 4,
 "nbformat_minor": 2
}
