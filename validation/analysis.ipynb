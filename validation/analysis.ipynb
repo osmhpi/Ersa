{
 "cells": [
  {
   "cell_type": "code",
   "execution_count": 70,
   "metadata": {},
   "outputs": [],
   "source": [
    "import pandas as pd\n",
    "import matplotlib.pyplot as plt\n",
    "import numpy as np"
   ]
  },
  {
   "cell_type": "code",
   "execution_count": 71,
   "metadata": {},
   "outputs": [],
   "source": [
    "data = pd.read_csv(\"benchmarks/log.log\")"
   ]
  },
  {
   "cell_type": "code",
   "execution_count": 72,
   "metadata": {},
   "outputs": [],
   "source": [
    "data[\"timestamp\"] = pd.to_datetime(data[\"timestamp\"])"
   ]
  },
  {
   "cell_type": "code",
   "execution_count": 73,
   "metadata": {},
   "outputs": [
    {
     "data": {
      "text/html": [
       "<div>\n",
       "<style scoped>\n",
       "    .dataframe tbody tr th:only-of-type {\n",
       "        vertical-align: middle;\n",
       "    }\n",
       "\n",
       "    .dataframe tbody tr th {\n",
       "        vertical-align: top;\n",
       "    }\n",
       "\n",
       "    .dataframe thead th {\n",
       "        text-align: right;\n",
       "    }\n",
       "</style>\n",
       "<table border=\"1\" class=\"dataframe\">\n",
       "  <thead>\n",
       "    <tr style=\"text-align: right;\">\n",
       "      <th></th>\n",
       "      <th>timestamp</th>\n",
       "      <th>event</th>\n",
       "      <th>version</th>\n",
       "      <th>tag</th>\n",
       "    </tr>\n",
       "  </thead>\n",
       "  <tbody>\n",
       "    <tr>\n",
       "      <th>10</th>\n",
       "      <td>2023-09-07 16:29:22.958977</td>\n",
       "      <td>pickling start</td>\n",
       "      <td>0.0.4</td>\n",
       "      <td>resnet_18_fmnist</td>\n",
       "    </tr>\n",
       "    <tr>\n",
       "      <th>11</th>\n",
       "      <td>2023-09-07 16:29:23.097091</td>\n",
       "      <td>pickling finished</td>\n",
       "      <td>0.0.4</td>\n",
       "      <td>resnet_18_fmnist</td>\n",
       "    </tr>\n",
       "    <tr>\n",
       "      <th>12</th>\n",
       "      <td>2023-09-07 16:29:23.385353</td>\n",
       "      <td>sending job start</td>\n",
       "      <td>0.0.4</td>\n",
       "      <td>resnet_18_fmnist</td>\n",
       "    </tr>\n",
       "    <tr>\n",
       "      <th>13</th>\n",
       "      <td>2023-09-07 16:29:27.119243</td>\n",
       "      <td>sending job finished</td>\n",
       "      <td>0.0.4</td>\n",
       "      <td>resnet_18_fmnist</td>\n",
       "    </tr>\n",
       "    <tr>\n",
       "      <th>14</th>\n",
       "      <td>2023-09-07 16:29:27.625779</td>\n",
       "      <td>processing job started</td>\n",
       "      <td>0.0.4</td>\n",
       "      <td>resnet_18_fmnist</td>\n",
       "    </tr>\n",
       "    <tr>\n",
       "      <th>15</th>\n",
       "      <td>2023-09-07 16:35:24.958140</td>\n",
       "      <td>processing job finished</td>\n",
       "      <td>0.0.4</td>\n",
       "      <td>resnet_18_fmnist</td>\n",
       "    </tr>\n",
       "    <tr>\n",
       "      <th>16</th>\n",
       "      <td>2023-09-07 16:35:24.958802</td>\n",
       "      <td>retrieving weights from remote</td>\n",
       "      <td>0.0.4</td>\n",
       "      <td>resnet_18_fmnist</td>\n",
       "    </tr>\n",
       "    <tr>\n",
       "      <th>17</th>\n",
       "      <td>2023-09-07 16:35:26.975069</td>\n",
       "      <td>retrieving weights from remote finished</td>\n",
       "      <td>0.0.4</td>\n",
       "      <td>resnet_18_fmnist</td>\n",
       "    </tr>\n",
       "    <tr>\n",
       "      <th>18</th>\n",
       "      <td>2023-09-07 16:35:27.012170</td>\n",
       "      <td>loading weights finished</td>\n",
       "      <td>0.0.4</td>\n",
       "      <td>resnet_18_fmnist</td>\n",
       "    </tr>\n",
       "  </tbody>\n",
       "</table>\n",
       "</div>"
      ],
      "text/plain": [
       "                    timestamp                                    event  \\\n",
       "10 2023-09-07 16:29:22.958977                           pickling start   \n",
       "11 2023-09-07 16:29:23.097091                        pickling finished   \n",
       "12 2023-09-07 16:29:23.385353                        sending job start   \n",
       "13 2023-09-07 16:29:27.119243                     sending job finished   \n",
       "14 2023-09-07 16:29:27.625779                   processing job started   \n",
       "15 2023-09-07 16:35:24.958140                  processing job finished   \n",
       "16 2023-09-07 16:35:24.958802           retrieving weights from remote   \n",
       "17 2023-09-07 16:35:26.975069  retrieving weights from remote finished   \n",
       "18 2023-09-07 16:35:27.012170                 loading weights finished   \n",
       "\n",
       "   version               tag  \n",
       "10   0.0.4  resnet_18_fmnist  \n",
       "11   0.0.4  resnet_18_fmnist  \n",
       "12   0.0.4  resnet_18_fmnist  \n",
       "13   0.0.4  resnet_18_fmnist  \n",
       "14   0.0.4  resnet_18_fmnist  \n",
       "15   0.0.4  resnet_18_fmnist  \n",
       "16   0.0.4  resnet_18_fmnist  \n",
       "17   0.0.4  resnet_18_fmnist  \n",
       "18   0.0.4  resnet_18_fmnist  "
      ]
     },
     "execution_count": 73,
     "metadata": {},
     "output_type": "execute_result"
    }
   ],
   "source": [
    "data = data[data.tag == \"resnet_18_fmnist\"]\n",
    "data"
   ]
  },
  {
   "cell_type": "code",
   "execution_count": null,
   "metadata": {},
   "outputs": [],
   "source": []
  },
  {
   "cell_type": "code",
   "execution_count": 74,
   "metadata": {},
   "outputs": [
    {
     "data": {
      "text/html": [
       "<div>\n",
       "<style scoped>\n",
       "    .dataframe tbody tr th:only-of-type {\n",
       "        vertical-align: middle;\n",
       "    }\n",
       "\n",
       "    .dataframe tbody tr th {\n",
       "        vertical-align: top;\n",
       "    }\n",
       "\n",
       "    .dataframe thead th {\n",
       "        text-align: right;\n",
       "    }\n",
       "</style>\n",
       "<table border=\"1\" class=\"dataframe\">\n",
       "  <thead>\n",
       "    <tr style=\"text-align: right;\">\n",
       "      <th></th>\n",
       "      <th>event</th>\n",
       "      <th>version</th>\n",
       "      <th>tag</th>\n",
       "      <th>begin</th>\n",
       "      <th>end</th>\n",
       "      <th>duration</th>\n",
       "    </tr>\n",
       "  </thead>\n",
       "  <tbody>\n",
       "    <tr>\n",
       "      <th>10</th>\n",
       "      <td>pickling</td>\n",
       "      <td>0.0.4</td>\n",
       "      <td>resnet_18_fmnist</td>\n",
       "      <td>0.000000</td>\n",
       "      <td>0.138114</td>\n",
       "      <td>0.138114</td>\n",
       "    </tr>\n",
       "    <tr>\n",
       "      <th>12</th>\n",
       "      <td>sending job</td>\n",
       "      <td>0.0.4</td>\n",
       "      <td>resnet_18_fmnist</td>\n",
       "      <td>0.426376</td>\n",
       "      <td>4.160266</td>\n",
       "      <td>3.733890</td>\n",
       "    </tr>\n",
       "    <tr>\n",
       "      <th>14</th>\n",
       "      <td>processing job</td>\n",
       "      <td>0.0.4</td>\n",
       "      <td>resnet_18_fmnist</td>\n",
       "      <td>4.666802</td>\n",
       "      <td>361.999163</td>\n",
       "      <td>357.332361</td>\n",
       "    </tr>\n",
       "    <tr>\n",
       "      <th>16</th>\n",
       "      <td>retrieving weights from</td>\n",
       "      <td>0.0.4</td>\n",
       "      <td>resnet_18_fmnist</td>\n",
       "      <td>361.999825</td>\n",
       "      <td>364.016092</td>\n",
       "      <td>2.016267</td>\n",
       "    </tr>\n",
       "    <tr>\n",
       "      <th>18</th>\n",
       "      <td>loading weights</td>\n",
       "      <td>0.0.4</td>\n",
       "      <td>resnet_18_fmnist</td>\n",
       "      <td>364.053193</td>\n",
       "      <td>NaN</td>\n",
       "      <td>NaN</td>\n",
       "    </tr>\n",
       "  </tbody>\n",
       "</table>\n",
       "</div>"
      ],
      "text/plain": [
       "                      event version               tag       begin         end  \\\n",
       "10                 pickling   0.0.4  resnet_18_fmnist    0.000000    0.138114   \n",
       "12              sending job   0.0.4  resnet_18_fmnist    0.426376    4.160266   \n",
       "14           processing job   0.0.4  resnet_18_fmnist    4.666802  361.999163   \n",
       "16  retrieving weights from   0.0.4  resnet_18_fmnist  361.999825  364.016092   \n",
       "18          loading weights   0.0.4  resnet_18_fmnist  364.053193         NaN   \n",
       "\n",
       "      duration  \n",
       "10    0.138114  \n",
       "12    3.733890  \n",
       "14  357.332361  \n",
       "16    2.016267  \n",
       "18         NaN  "
      ]
     },
     "execution_count": 74,
     "metadata": {},
     "output_type": "execute_result"
    }
   ],
   "source": [
    "df_merged = pd.concat([data, data.shift(-1).add_prefix(\"end_\")], axis=1)\n",
    "df_merged = df_merged.iloc[::2]\n",
    "start = df_merged.iloc[0][\"timestamp\"]\n",
    "df_merged[\"begin\"] = (df_merged[\"timestamp\"] - start).apply(lambda x: x.total_seconds())\n",
    "df_merged[\"end\"] = (df_merged[\"end_timestamp\"] - start).apply(\n",
    "    lambda x: x.total_seconds()\n",
    ")\n",
    "df_merged[\"event\"] = df_merged[\"event\"].apply(lambda x: \" \".join(x.split(\" \")[:-1]))\n",
    "df_merged[\"duration\"] = df_merged[\"end\"] - df_merged[\"begin\"]\n",
    "df_merged.drop(\n",
    "    columns=list(df_merged.filter(regex=\"end_\")) + [\"timestamp\"], inplace=True\n",
    ")\n",
    "\n",
    "data = df_merged\n",
    "data"
   ]
  },
  {
   "cell_type": "code",
   "execution_count": 75,
   "metadata": {},
   "outputs": [
    {
     "name": "stderr",
     "output_type": "stream",
     "text": [
      "/tmp/ipykernel_8664/2548020364.py:2: MatplotlibDeprecationWarning: The seaborn styles shipped by Matplotlib are deprecated since 3.6, as they no longer correspond to the styles shipped by seaborn. However, they will remain available as 'seaborn-v0_8-<style>'. Alternatively, directly use the seaborn API instead.\n",
      "  plt.style.use('seaborn-colorblind')\n"
     ]
    }
   ],
   "source": [
    "# plt.rcParams['image.cmap'] = \"seaborn-v0_8-colorblind\"\n",
    "plt.style.use(\"seaborn-colorblind\")"
   ]
  },
  {
   "cell_type": "code",
   "execution_count": 84,
   "metadata": {},
   "outputs": [
    {
     "data": {
      "text/plain": [
       "(5.888271000000028, 1.647841517494137)"
      ]
     },
     "execution_count": 84,
     "metadata": {},
     "output_type": "execute_result"
    }
   ],
   "source": [
    "overhead_abs = data[data[\"event\"] != \"processing job\"].sum()[\"duration\"]\n",
    "overhead_rel = (\n",
    "    data[data[\"event\"] != \"processing job\"].sum()[\"duration\"]\n",
    "    / data[data[\"event\"] == \"processing job\"][\"duration\"]\n",
    ")\n",
    "overhead_rel = overhead_rel.iloc[0]\n",
    "overhead_abs, overhead_rel * 100"
   ]
  },
  {
   "cell_type": "code",
   "execution_count": null,
   "metadata": {},
   "outputs": [],
   "source": [
    "10/"
   ]
  },
  {
   "cell_type": "code",
   "execution_count": 76,
   "metadata": {},
   "outputs": [
    {
     "data": {
      "text/plain": [
       "<matplotlib.legend.Legend at 0x7f09822d2d40>"
      ]
     },
     "execution_count": 76,
     "metadata": {},
     "output_type": "execute_result"
    },
    {
     "data": {
      "image/png": "[encoded data removed]",
      "text/plain": [
       "<Figure size 640x480 with 1 Axes>"
      ]
     },
     "metadata": {},
     "output_type": "display_data"
    }
   ],
   "source": [
    "# plt.plot(data[\"timestamp\"])\n",
    "for index, row in data.iloc[:-1].iterrows():\n",
    "    plt.barh(\n",
    "        left=row[\"begin\"], width=row[\"duration\"], height=1, y=0, label=row[\"event\"]\n",
    "    )\n",
    "\n",
    "plt.legend()"
   ]
  },
  {
   "cell_type": "code",
   "execution_count": 77,
   "metadata": {},
   "outputs": [
    {
     "data": {
      "text/plain": [
       "<Axes: >"
      ]
     },
     "execution_count": 77,
     "metadata": {},
     "output_type": "execute_result"
    },
    {
     "data": {
      "image/png": "[encoded data removed]",
      "text/plain": [
       "<Figure size 640x480 with 1 Axes>"
      ]
     },
     "metadata": {},
     "output_type": "display_data"
    }
   ],
   "source": [
    "data.plot()"
   ]
  },
  {
   "cell_type": "code",
   "execution_count": null,
   "metadata": {},
   "outputs": [],
   "source": []
  }
 ],
 "metadata": {
  "kernelspec": {
   "display_name": ".venv",
   "language": "python",
   "name": "python3"
  },
  "language_info": {
   "codemirror_mode": {
    "name": "ipython",
    "version": 3
   },
   "file_extension": ".py",
   "mimetype": "text/x-python",
   "name": "python",
   "nbconvert_exporter": "python",
   "pygments_lexer": "ipython3",
   "version": "3.10.6"
  },
  "orig_nbformat": 4
 },
 "nbformat": 4,
 "nbformat_minor": 2
}
