{
 "cells": [
  {
   "cell_type": "code",
   "execution_count": 5,
   "metadata": {},
   "outputs": [],
   "source": [
    "my_file = open(\"log.log\", \"r\")"
   ]
  },
  {
   "cell_type": "code",
   "execution_count": 9,
   "metadata": {},
   "outputs": [
    {
     "data": {
      "text/plain": [
       "'2023-09-06 15:54:58,190;new training job\\n'"
      ]
     },
     "execution_count": 9,
     "metadata": {},
     "output_type": "execute_result"
    }
   ],
   "source": [
    "my_file.readline()"
   ]
  },
  {
   "cell_type": "code",
   "execution_count": 8,
   "metadata": {},
   "outputs": [
    {
     "data": {
      "text/plain": [
       "{popenfile(path='/home/felix/.ipython/profile_default/history.sqlite', fd=54, position=0, mode='r+', flags=688130),\n",
       " popenfile(path='/home/felix/.ipython/profile_default/history.sqlite', fd=55, position=0, mode='r+', flags=688130),\n",
       " popenfile(path='/home/felix/.ipython/profile_default/history.sqlite-journal', fd=65, position=0, mode='r+', flags=688130),\n",
       " popenfile(path='/home/felix/projects/uni/phd/kisz/megaclite/log.log', fd=64, position=8192, mode='r', flags=557056)}"
      ]
     },
     "execution_count": 8,
     "metadata": {},
     "output_type": "execute_result"
    }
   ],
   "source": [
    "def print_file_handles():\n",
    "    import psutil\n",
    "\n",
    "    proc = psutil.Process()\n",
    "    file_handles = proc.open_files()\n",
    "    parent_file_handles = proc.parent().open_files()\n",
    "    actual_file_handles = set(file_handles) - set(parent_file_handles)\n",
    "    return actual_file_handles\n",
    "\n",
    "\n",
    "print_file_handles()"
   ]
  },
  {
   "cell_type": "code",
   "execution_count": 10,
   "metadata": {},
   "outputs": [],
   "source": [
    "my_file = open(\"log.log\", \"r\")"
   ]
  },
  {
   "cell_type": "code",
   "execution_count": 11,
   "metadata": {},
   "outputs": [
    {
     "data": {
      "text/plain": [
       "8192"
      ]
     },
     "execution_count": 11,
     "metadata": {},
     "output_type": "execute_result"
    }
   ],
   "source": [
    "my_file.seek(8192)"
   ]
  },
  {
   "cell_type": "code",
   "execution_count": 12,
   "metadata": {},
   "outputs": [
    {
     "data": {
      "text/plain": [
       "'une\\n'"
      ]
     },
     "execution_count": 12,
     "metadata": {},
     "output_type": "execute_result"
    }
   ],
   "source": [
    "my_file.readline()"
   ]
  },
  {
   "cell_type": "code",
   "execution_count": null,
   "metadata": {},
   "outputs": [],
   "source": []
  }
 ],
 "metadata": {
  "kernelspec": {
   "display_name": ".venv",
   "language": "python",
   "name": "python3"
  },
  "language_info": {
   "codemirror_mode": {
    "name": "ipython",
    "version": 3
   },
   "file_extension": ".py",
   "mimetype": "text/x-python",
   "name": "python",
   "nbconvert_exporter": "python",
   "pygments_lexer": "ipython3",
   "version": "3.10.6"
  }
 },
 "nbformat": 4,
 "nbformat_minor": 2
}
