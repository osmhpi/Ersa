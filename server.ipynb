{
 "cells": [
  {
   "cell_type": "code",
   "execution_count": 1,
   "id": "597d0c6e",
   "metadata": {},
   "outputs": [],
   "source": [
    "from multiprocessing.connection import Listener\n",
    "from multiprocessing import Process, Queue\n",
    "from datetime import datetime"
   ]
  },
  {
   "cell_type": "code",
   "execution_count": 2,
   "id": "5aff774d",
   "metadata": {},
   "outputs": [],
   "source": [
    "def reexecute_and_train(func_name, cells):\n",
    "    for cell in cells[:-1]:\n",
    "        exec(cell, globals())\n",
    "    \n",
    "    filename = f\"model-{datetime.now().isoformat()}\"\n",
    "    globals()[func_name] = globals()[func_name].original\n",
    "    exec(cells[-1], globals())\n",
    "    torch.save(model.state_dict(), filename)\n",
    "    return filename"
   ]
  },
  {
   "cell_type": "code",
   "execution_count": 3,
   "id": "13d1e8bc",
   "metadata": {},
   "outputs": [],
   "source": [
    "def execute_in_subprocess():\n",
    "    def reexecute_and_train_in_subprocess(func_name, cells, queue):\n",
    "        filename = reexecute_and_train(func_name, cells)\n",
    "        queue.put(filename)\n",
    "    \n",
    "    queue = Queue()\n",
    "    p = Process(target=reexecute_and_train_in_subprocess, args=(func_name, cells, queue))\n",
    "    p.start()\n",
    "    p.join() # this blocks until the process terminates\n",
    "    filename = queue.get()\n",
    "    return filename"
   ]
  },
  {
   "cell_type": "code",
   "execution_count": 4,
   "id": "e6d57424",
   "metadata": {},
   "outputs": [
    {
     "name": "stdout",
     "output_type": "stream",
     "text": [
      "batch size: torch.Size([32, 1, 28, 28])\n",
      "torch.Size([32, 10])\n",
      "Epoch: 0 | Loss: 1.5536 | Train Accuracy: 91.14\n",
      "Epoch: 1 | Loss: 1.4923 | Train Accuracy: 97.19\n",
      "batch size: torch.Size([32, 1, 28, 28])\n",
      "torch.Size([32, 10])\n",
      "Epoch: 0 | Loss: 2.3602 | Train Accuracy: 10.23\n",
      "Epoch: 1 | Loss: 2.3602 | Train Accuracy: 10.22\n",
      "Epoch: 2 | Loss: 2.3602 | Train Accuracy: 10.22\n",
      "batch size: torch.Size([32, 1, 28, 28])\n",
      "torch.Size([32, 10])\n",
      "Epoch: 0 | Loss: 1.6337 | Train Accuracy: 83.02\n",
      "Epoch: 1 | Loss: 1.4929 | Train Accuracy: 97.19\n",
      "Epoch: 2 | Loss: 1.4815 | Train Accuracy: 98.21\n",
      "Epoch: 3 | Loss: 1.4769 | Train Accuracy: 98.66\n",
      "Epoch: 4 | Loss: 1.4740 | Train Accuracy: 98.92\n",
      "batch size: torch.Size([32, 1, 28, 28])\n",
      "torch.Size([32, 10])\n",
      "Test Accuracy: 10.16\n"
     ]
    },
    {
     "name": "stderr",
     "output_type": "stream",
     "text": [
      "Process Process-4:\n",
      "Traceback (most recent call last):\n",
      "  File \"/usr/lib/python3.10/multiprocessing/process.py\", line 314, in _bootstrap\n",
      "    self.run()\n",
      "  File \"/usr/lib/python3.10/multiprocessing/process.py\", line 108, in run\n",
      "    self._target(*self._args, **self._kwargs)\n",
      "  File \"/tmp/ipykernel_376234/536911192.py\", line 3, in reexecute_and_train_in_subprocess\n",
      "    filename = reexecute_and_train(func_name, cells)\n",
      "  File \"/tmp/ipykernel_376234/1347668482.py\", line 3, in reexecute_and_train\n",
      "    exec(cell, globals())\n",
      "  File \"<string>\", line 1, in <module>\n",
      "TypeError: 'builtin_function_or_method' object is not subscriptable\n"
     ]
    }
   ],
   "source": [
    "from multiprocessing.connection import Listener\n",
    "from multiprocessing import Process, Queue\n",
    "\n",
    "address = ('localhost', 6000)     # family is deduced to be 'AF_INET'\n",
    "listener = Listener(address, authkey=b'secret password')\n",
    "try:\n",
    "    while True:\n",
    "        conn = listener.accept()\n",
    "        func_name= conn.recv()\n",
    "        cells = conn.recv()\n",
    "        # filename = reexecute_and_train(func_name, cells)\n",
    "        filename = execute_in_subprocess()\n",
    "\n",
    "        conn.send(filename)\n",
    "finally:\n",
    "    listener.close()"
   ]
  },
  {
   "cell_type": "code",
   "execution_count": null,
   "id": "055a1fb4",
   "metadata": {},
   "outputs": [],
   "source": []
  }
 ],
 "metadata": {
  "kernelspec": {
   "display_name": "Python 3 (ipykernel)",
   "language": "python",
   "name": "python3"
  },
  "language_info": {
   "codemirror_mode": {
    "name": "ipython",
    "version": 3
   },
   "file_extension": ".py",
   "mimetype": "text/x-python",
   "name": "python",
   "nbconvert_exporter": "python",
   "pygments_lexer": "ipython3",
   "version": "3.10.6"
  }
 },
 "nbformat": 4,
 "nbformat_minor": 5
}
