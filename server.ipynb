{
 "cells": [
  {
   "cell_type": "code",
   "execution_count": 1,
   "id": "597d0c6e",
   "metadata": {},
   "outputs": [],
   "source": [
    "from multiprocessing.connection import Listener\n",
    "from multiprocessing import Process, Queue, set_start_method\n",
    "from datetime import datetime"
   ]
  },
  {
   "cell_type": "code",
   "execution_count": 2,
   "id": "ee39f095",
   "metadata": {},
   "outputs": [],
   "source": [
    "def get_output_file(state_file: str)->str:\n",
    "    return state_file + \"-out\""
   ]
  },
  {
   "cell_type": "code",
   "execution_count": 3,
   "id": "5aff774d",
   "metadata": {},
   "outputs": [],
   "source": [
    "def reexecute_and_train(state_file: str, cell: str, model_name: str):\n",
    "    import dill\n",
    "    import torch\n",
    "    output_file = get_output_file(state_file)\n",
    "    # load state from the users notebook\n",
    "    dill.load_module(state_file)\n",
    "    # train the model\n",
    "    exec(cell)\n",
    "    # save the model\n",
    "    torch.save(globals()[model_name].state_dict(), output_file)"
   ]
  },
  {
   "cell_type": "code",
   "execution_count": 4,
   "id": "13d1e8bc",
   "metadata": {},
   "outputs": [],
   "source": [
    "def execute_in_subprocess(state_file, cell, model_name, stdout_listener):\n",
    "    from contextlib import redirect_stdout\n",
    "    # set_start_method(\"spawn\")\n",
    "    p = Process(target=reexecute_and_train, args=(state_file, cell, model_name))\n",
    "    import sys\n",
    "    class DummyStdout:\n",
    "        def __init__(self) -> None:\n",
    "            self.conn = stdout_listener.accept()\n",
    "        def write(self, text):\n",
    "            self.conn.send(text)\n",
    "\n",
    "    dummy_stout = DummyStdout()\n",
    "    with redirect_stdout(dummy_stout):\n",
    "        p.start()\n",
    "        p.join()\n",
    "    dummy_stout.conn.send(\"DONE\")"
   ]
  },
  {
   "cell_type": "code",
   "execution_count": 5,
   "id": "e6d57424",
   "metadata": {},
   "outputs": [
    {
     "name": "stderr",
     "output_type": "stream",
     "text": [
      "Process Process-1:\n",
      "Traceback (most recent call last):\n",
      "  File \"/usr/lib/python3.10/multiprocessing/process.py\", line 314, in _bootstrap\n",
      "    self.run()\n",
      "  File \"/usr/lib/python3.10/multiprocessing/process.py\", line 108, in run\n",
      "    self._target(*self._args, **self._kwargs)\n",
      "  File \"/tmp/ipykernel_1719707/2914870391.py\", line 8, in reexecute_and_train\n",
      "    exec(cell)\n",
      "  File \"<string>\", line 5, in <module>\n",
      "NameError: name 'GradScaler' is not defined\n",
      "Process Process-2:\n",
      "Traceback (most recent call last):\n",
      "  File \"/usr/lib/python3.10/multiprocessing/process.py\", line 314, in _bootstrap\n",
      "    self.run()\n",
      "  File \"/usr/lib/python3.10/multiprocessing/process.py\", line 108, in run\n",
      "    self._target(*self._args, **self._kwargs)\n",
      "  File \"/tmp/ipykernel_1719707/2914870391.py\", line 8, in reexecute_and_train\n",
      "    exec(cell)\n",
      "  File \"<string>\", line 19, in <module>\n",
      "NameError: name 'autocast' is not defined\n"
     ]
    }
   ],
   "source": [
    "from multiprocessing.connection import Listener\n",
    "from multiprocessing import Process, Queue\n",
    "\n",
    "address = ('localhost', 6001)     # family is deduced to be 'AF_INET'\n",
    "listener = Listener(address, authkey=b'secret password')\n",
    "\n",
    "stdout_listener = Listener(('localhost', 6002), authkey=b'secret password')\n",
    "\n",
    "try:\n",
    "    while True:\n",
    "        conn = listener.accept()\n",
    "        state_file = conn.recv()\n",
    "        cell = conn.recv()\n",
    "        model_name=conn.recv()\n",
    "        filename = execute_in_subprocess(state_file, cell, model_name, stdout_listener)\n",
    "        conn.send(get_output_file(state_file))\n",
    "finally:\n",
    "    listener.close()"
   ]
  },
  {
   "cell_type": "code",
   "execution_count": null,
   "id": "c47965b3",
   "metadata": {},
   "outputs": [],
   "source": [
    "import subprocess"
   ]
  },
  {
   "cell_type": "code",
   "execution_count": null,
   "id": "1d7ecc40",
   "metadata": {},
   "outputs": [
    {
     "ename": "TypeError",
     "evalue": "Popen.__init__() got an unexpected keyword argument 'target'",
     "output_type": "error",
     "traceback": [
      "\u001b[0;31m---------------------------------------------------------------------------\u001b[0m",
      "\u001b[0;31mTypeError\u001b[0m                                 Traceback (most recent call last)",
      "Cell \u001b[0;32mIn[9], line 1\u001b[0m\n\u001b[0;32m----> 1\u001b[0m p \u001b[39m=\u001b[39m subprocess\u001b[39m.\u001b[39;49mPopen(target\u001b[39m=\u001b[39;49m\u001b[39mlambda\u001b[39;49;00m: \u001b[39mprint\u001b[39;49m(\u001b[39m\"\u001b[39;49m\u001b[39mtest\u001b[39;49m\u001b[39m\"\u001b[39;49m))\n",
      "\u001b[0;31mTypeError\u001b[0m: Popen.__init__() got an unexpected keyword argument 'target'"
     ]
    }
   ],
   "source": [
    "p = subprocess.Popen(target=lambda: print(\"test\"))"
   ]
  },
  {
   "cell_type": "code",
   "execution_count": null,
   "id": "d1e733f1",
   "metadata": {},
   "outputs": [
    {
     "name": "stdout",
     "output_type": "stream",
     "text": [
      "test"
     ]
    },
    {
     "name": "stdout",
     "output_type": "stream",
     "text": [
      "\n"
     ]
    }
   ],
   "source": [
    "p.start()"
   ]
  },
  {
   "cell_type": "code",
   "execution_count": null,
   "id": "5eaae72b",
   "metadata": {},
   "outputs": [],
   "source": [
    "from contextlib import redirect_stdout"
   ]
  },
  {
   "cell_type": "code",
   "execution_count": null,
   "id": "175bd8cb",
   "metadata": {},
   "outputs": [
    {
     "name": "stdout",
     "output_type": "stream",
     "text": [
      "[] yey\n",
      "[] \n",
      "\n"
     ]
    }
   ],
   "source": [
    "import sys\n",
    "class DummyStdout:\n",
    "    def __init__(self) -> None:\n",
    "        self._stdout = sys.stdout\n",
    "    def write(self, text):\n",
    "          print(\"[]\", text, file=self._stdout)\n",
    "\n",
    "with redirect_stdout(DummyStdout()):\n",
    "        print(\"yey\")"
   ]
  },
  {
   "cell_type": "code",
   "execution_count": null,
   "id": "fafe7afa",
   "metadata": {},
   "outputs": [],
   "source": []
  }
 ],
 "metadata": {
  "kernelspec": {
   "display_name": "Python 3 (ipykernel)",
   "language": "python",
   "name": "python3"
  },
  "language_info": {
   "codemirror_mode": {
    "name": "ipython",
    "version": 3
   },
   "file_extension": ".py",
   "mimetype": "text/x-python",
   "name": "python",
   "nbconvert_exporter": "python",
   "pygments_lexer": "ipython3",
   "version": "3.10.6"
  }
 },
 "nbformat": 4,
 "nbformat_minor": 5
}
