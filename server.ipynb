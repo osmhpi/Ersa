{
 "cells": [
  {
   "cell_type": "code",
   "execution_count": 1,
   "id": "597d0c6e",
   "metadata": {},
   "outputs": [],
   "source": [
    "from multiprocessing.connection import Listener\n",
    "from multiprocessing import Process, Queue, set_start_method\n",
    "from datetime import datetime"
   ]
  },
  {
   "cell_type": "code",
   "execution_count": 2,
   "id": "ee39f095",
   "metadata": {},
   "outputs": [],
   "source": [
    "def get_output_file(state_file: str)->str:\n",
    "    return state_file + \"-out\""
   ]
  },
  {
   "cell_type": "code",
   "execution_count": 3,
   "id": "5aff774d",
   "metadata": {},
   "outputs": [],
   "source": [
    "def reexecute_and_train(state_file: str, cell: str, model_name: str):\n",
    "    import dill\n",
    "    import torch\n",
    "    output_file = get_output_file(state_file)\n",
    "    # load state from the users notebook\n",
    "    dill.load_module(state_file)\n",
    "    # train the model\n",
    "    exec(cell)\n",
    "    # save the model\n",
    "    torch.save(globals()[model_name].state_dict(), output_file)"
   ]
  },
  {
   "cell_type": "code",
   "execution_count": 4,
   "id": "13d1e8bc",
   "metadata": {},
   "outputs": [],
   "source": [
    "def execute_in_subprocess(state_file, cell, model_name, stdout_listener):\n",
    "    from contextlib import redirect_stdout\n",
    "    # set_start_method(\"spawn\")\n",
    "    p = Process(target=reexecute_and_train, args=(state_file, cell, model_name))\n",
    "    import sys\n",
    "    class DummyStdout:\n",
    "        def __init__(self) -> None:\n",
    "            self.conn = stdout_listener.accept()\n",
    "        def write(self, text):\n",
    "            self.conn.send(text)\n",
    "\n",
    "    dummy_stout = DummyStdout()\n",
    "    with redirect_stdout(dummy_stout):\n",
    "        p.start()\n",
    "        p.join()\n",
    "    dummy_stout.conn.send(\"DONE\")"
   ]
  },
  {
   "cell_type": "code",
   "execution_count": 5,
   "id": "e6d57424",
   "metadata": {},
   "outputs": [],
   "source": [
    "from multiprocessing.connection import Listener\n",
    "from multiprocessing import Process, Queue\n",
    "\n",
    "address = ('localhost', 6001)     # family is deduced to be 'AF_INET'\n",
    "listener = Listener(address, authkey=b'secret password')\n",
    "\n",
    "stdout_listener = Listener(('localhost', 6002), authkey=b'secret password')\n",
    "\n",
    "try:\n",
    "    while True:\n",
    "        conn = listener.accept()\n",
    "        state_file = conn.recv()\n",
    "        cell = conn.recv()\n",
    "        model_name=conn.recv()\n",
    "        filename = execute_in_subprocess(state_file, cell, model_name, stdout_listener)\n",
    "        conn.send(get_output_file(state_file))\n",
    "finally:\n",
    "    listener.close()"
   ]
  }
 ],
 "metadata": {
  "kernelspec": {
   "display_name": "Python 3 (ipykernel)",
   "language": "python",
   "name": "python3"
  },
  "language_info": {
   "codemirror_mode": {
    "name": "ipython",
    "version": 3
   },
   "file_extension": ".py",
   "mimetype": "text/x-python",
   "name": "python",
   "nbconvert_exporter": "python",
   "pygments_lexer": "ipython3",
   "version": "3.10.6"
  }
 },
 "nbformat": 4,
 "nbformat_minor": 5
}
