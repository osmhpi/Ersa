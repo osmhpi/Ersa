{
 "cells": [
  {
   "cell_type": "code",
   "execution_count": 1,
   "id": "597d0c6e",
   "metadata": {},
   "outputs": [],
   "source": [
    "from multiprocessing.connection import Listener\n",
    "from multiprocessing import Process, Queue, set_start_method\n",
    "from datetime import datetime"
   ]
  },
  {
   "cell_type": "code",
   "execution_count": 1,
   "id": "ee39f095",
   "metadata": {},
   "outputs": [],
   "source": [
    "def get_output_file(state_file: str)->str:\n",
    "    return state_file + \"-out\""
   ]
  },
  {
   "cell_type": "code",
   "execution_count": 2,
   "id": "5aff774d",
   "metadata": {},
   "outputs": [],
   "source": [
    "from io import BytesIO\n",
    "\n",
    "\n",
    "def reexecute_and_train(state_file: str, cell: str, model_name: str, queue):\n",
    "    import dill\n",
    "    import torch\n",
    "    # output_file = get_output_file(state_file)\n",
    "    # load state from the users notebook\n",
    "    file = BytesIO(state_file)\n",
    "    dill.load_module(file)\n",
    "    # train the model\n",
    "    for line in cell.split(\"\\n\"):\n",
    "        print(line)\n",
    "        exec(line)\n",
    "    # save the model\n",
    "    # out_file = StringIO(state_file)\n",
    "    queue.put(globals()[model_name].state_dict())\n",
    "    # return \n",
    "    # torch.save(, output_file)"
   ]
  },
  {
   "cell_type": "code",
   "execution_count": 4,
   "id": "13d1e8bc",
   "metadata": {},
   "outputs": [],
   "source": [
    "def execute_in_subprocess(state_file, cell, model_name, stdout_listener):\n",
    "    from contextlib import redirect_stdout\n",
    "    # set_start_method(\"spawn\")\n",
    "    queue = Queue()\n",
    "    p = Process(target=reexecute_and_train, args=(state_file, cell, model_name, queue))\n",
    "    import sys\n",
    "    class DummyStdout:\n",
    "        def __init__(self) -> None:\n",
    "            self.conn = stdout_listener.accept()\n",
    "        def write(self, text):\n",
    "            self.conn.send(text)\n",
    "    dummy_stout = DummyStdout()\n",
    "    with redirect_stdout(dummy_stout):\n",
    "        p.start()\n",
    "        p.join()\n",
    "        result = queue.get()\n",
    "    dummy_stout.conn.send(\"DONE\")\n",
    "    return result"
   ]
  },
  {
   "cell_type": "code",
   "execution_count": 5,
   "id": "e6d57424",
   "metadata": {},
   "outputs": [
    {
     "ename": "KeyboardInterrupt",
     "evalue": "",
     "output_type": "error",
     "traceback": [
      "\u001b[0;31m---------------------------------------------------------------------------\u001b[0m",
      "\u001b[0;31mKeyboardInterrupt\u001b[0m                         Traceback (most recent call last)",
      "Cell \u001b[0;32mIn[5], line 11\u001b[0m\n\u001b[1;32m      9\u001b[0m \u001b[39mtry\u001b[39;00m:\n\u001b[1;32m     10\u001b[0m     \u001b[39mwhile\u001b[39;00m \u001b[39mTrue\u001b[39;00m:\n\u001b[0;32m---> 11\u001b[0m         conn \u001b[39m=\u001b[39m listener\u001b[39m.\u001b[39;49maccept()\n\u001b[1;32m     12\u001b[0m         cell \u001b[39m=\u001b[39m conn\u001b[39m.\u001b[39mrecv()\n\u001b[1;32m     13\u001b[0m         model_name\u001b[39m=\u001b[39mconn\u001b[39m.\u001b[39mrecv()\n",
      "File \u001b[0;32m/usr/lib/python3.10/multiprocessing/connection.py:463\u001b[0m, in \u001b[0;36mListener.accept\u001b[0;34m(self)\u001b[0m\n\u001b[1;32m    461\u001b[0m \u001b[39mif\u001b[39;00m \u001b[39mself\u001b[39m\u001b[39m.\u001b[39m_listener \u001b[39mis\u001b[39;00m \u001b[39mNone\u001b[39;00m:\n\u001b[1;32m    462\u001b[0m     \u001b[39mraise\u001b[39;00m \u001b[39mOSError\u001b[39;00m(\u001b[39m'\u001b[39m\u001b[39mlistener is closed\u001b[39m\u001b[39m'\u001b[39m)\n\u001b[0;32m--> 463\u001b[0m c \u001b[39m=\u001b[39m \u001b[39mself\u001b[39;49m\u001b[39m.\u001b[39;49m_listener\u001b[39m.\u001b[39;49maccept()\n\u001b[1;32m    464\u001b[0m \u001b[39mif\u001b[39;00m \u001b[39mself\u001b[39m\u001b[39m.\u001b[39m_authkey:\n\u001b[1;32m    465\u001b[0m     deliver_challenge(c, \u001b[39mself\u001b[39m\u001b[39m.\u001b[39m_authkey)\n",
      "File \u001b[0;32m/usr/lib/python3.10/multiprocessing/connection.py:609\u001b[0m, in \u001b[0;36mSocketListener.accept\u001b[0;34m(self)\u001b[0m\n\u001b[1;32m    608\u001b[0m \u001b[39mdef\u001b[39;00m \u001b[39maccept\u001b[39m(\u001b[39mself\u001b[39m):\n\u001b[0;32m--> 609\u001b[0m     s, \u001b[39mself\u001b[39m\u001b[39m.\u001b[39m_last_accepted \u001b[39m=\u001b[39m \u001b[39mself\u001b[39;49m\u001b[39m.\u001b[39;49m_socket\u001b[39m.\u001b[39;49maccept()\n\u001b[1;32m    610\u001b[0m     s\u001b[39m.\u001b[39msetblocking(\u001b[39mTrue\u001b[39;00m)\n\u001b[1;32m    611\u001b[0m     \u001b[39mreturn\u001b[39;00m Connection(s\u001b[39m.\u001b[39mdetach())\n",
      "File \u001b[0;32m/usr/lib/python3.10/socket.py:293\u001b[0m, in \u001b[0;36msocket.accept\u001b[0;34m(self)\u001b[0m\n\u001b[1;32m    286\u001b[0m \u001b[39mdef\u001b[39;00m \u001b[39maccept\u001b[39m(\u001b[39mself\u001b[39m):\n\u001b[1;32m    287\u001b[0m \u001b[39m    \u001b[39m\u001b[39m\"\"\"accept() -> (socket object, address info)\u001b[39;00m\n\u001b[1;32m    288\u001b[0m \n\u001b[1;32m    289\u001b[0m \u001b[39m    Wait for an incoming connection.  Return a new socket\u001b[39;00m\n\u001b[1;32m    290\u001b[0m \u001b[39m    representing the connection, and the address of the client.\u001b[39;00m\n\u001b[1;32m    291\u001b[0m \u001b[39m    For IP sockets, the address info is a pair (hostaddr, port).\u001b[39;00m\n\u001b[1;32m    292\u001b[0m \u001b[39m    \"\"\"\u001b[39;00m\n\u001b[0;32m--> 293\u001b[0m     fd, addr \u001b[39m=\u001b[39m \u001b[39mself\u001b[39;49m\u001b[39m.\u001b[39;49m_accept()\n\u001b[1;32m    294\u001b[0m     sock \u001b[39m=\u001b[39m socket(\u001b[39mself\u001b[39m\u001b[39m.\u001b[39mfamily, \u001b[39mself\u001b[39m\u001b[39m.\u001b[39mtype, \u001b[39mself\u001b[39m\u001b[39m.\u001b[39mproto, fileno\u001b[39m=\u001b[39mfd)\n\u001b[1;32m    295\u001b[0m     \u001b[39m# Issue #7995: if no default timeout is set and the listening\u001b[39;00m\n\u001b[1;32m    296\u001b[0m     \u001b[39m# socket had a (non-zero) timeout, force the new socket in blocking\u001b[39;00m\n\u001b[1;32m    297\u001b[0m     \u001b[39m# mode to override platform-specific socket flags inheritance.\u001b[39;00m\n",
      "\u001b[0;31mKeyboardInterrupt\u001b[0m: "
     ]
    }
   ],
   "source": [
    "from multiprocessing.connection import Listener\n",
    "from multiprocessing import Process, Queue\n",
    "\n",
    "address = ('0.0.0.0', 6001)     # family is deduced to be 'AF_INET'\n",
    "listener = Listener(address, authkey=b'secret password')\n",
    "\n",
    "stdout_listener = Listener(('0.0.0.0', 6002), authkey=b'secret password')\n",
    "\n",
    "try:\n",
    "    while True:\n",
    "        conn = listener.accept()\n",
    "        cell = conn.recv()\n",
    "        model_name=conn.recv()\n",
    "        state_file = conn.recv_bytes()\n",
    "        result = execute_in_subprocess(state_file, cell, model_name, stdout_listener)\n",
    "        conn.send(result)\n",
    "finally:\n",
    "    listener.close()"
   ]
  }
 ],
 "metadata": {
  "kernelspec": {
   "display_name": "Python 3 (ipykernel)",
   "language": "python",
   "name": "python3"
  },
  "language_info": {
   "codemirror_mode": {
    "name": "ipython",
    "version": 3
   },
   "file_extension": ".py",
   "mimetype": "text/x-python",
   "name": "python",
   "nbconvert_exporter": "python",
   "pygments_lexer": "ipython3",
   "version": "3.10.6"
  }
 },
 "nbformat": 4,
 "nbformat_minor": 5
}
