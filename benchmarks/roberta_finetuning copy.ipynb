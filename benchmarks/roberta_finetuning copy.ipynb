{
 "cells": [
  {
   "cell_type": "code",
   "execution_count": null,
   "id": "0",
   "metadata": {
    "colab": {
     "base_uri": "https://localhost:8080/",
     "height": 793,
     "referenced_widgets": [
      "8439dc2cf4974e81953746fbd376bf09",
      "29090e8141bb47ef9ba72580a21fea30",
      "4889c455ad9346e481387c0b15f0f234",
      "cd4cbaa3a0cd4c778f7af36cf842ebca",
      "b70566969f3c489fbc47c22a44ea4346",
      "3fe228ed54d04fd4b453297f13f7639e",
      "6ea1b9c0be42422f8e8099f7ccc3f1a9",
      "42903f6151dc43b8b3a635c73d5f599c",
      "498dc29cb1604491aa29ef5ad36b8f61",
      "aa56fd2d44ac4fab854a4d76c03f2a11",
      "dadee769dea74726a3119e8c7af89cce",
      "3aeda065528f42e3a85473eb96fe9063",
      "0d68ab37f2394ee1b6589bae5386adf6",
      "ec2ede0780984d5c8837dc6bf7fda11a",
      "c34169d70f0b4643a6c1528fad5ee405",
      "576fb24635b043d9bf37fd44388e7576",
      "e86ff83e5050463fb47acae6ededeb9d",
      "1a4e5c117e4548a285d95e08e53c65dd",
      "f0f272b42b65406e984ae6789eb1d33b",
      "2e19b9aae932448f934a6657abe48d75",
      "639840d736204b5b8ed9eb99d7a98f38",
      "bc472a18d47a452b9333587224de8ba4"
     ]
    },
    "id": "fbMD51ekFNSC",
    "outputId": "0ee72411-aca7-4593-c226-a70f4d5a3e9f",
    "tags": []
   },
   "outputs": [],
   "source": [
    "from transformers import AutoModel\n",
    "from datasets import load_dataset\n",
    "import torch\n",
    "from transformers import AutoTokenizer\n",
    "from typing import Dict, Any\n",
    "from datasets import Dataset\n",
    "import evaluate\n",
    "import numpy as np\n",
    "from transformers import EvalPrediction\n",
    "from transformers import AutoModelForSequenceClassification, AutoConfig\n",
    "from transformers import TrainingArguments, Trainer"
   ]
  },
  {
   "cell_type": "code",
   "execution_count": null,
   "id": "1",
   "metadata": {
    "tags": []
   },
   "outputs": [],
   "source": [
    "%reload_ext megaclite.client\n",
    "%tag_benchmark roberta_finetune_local_cpu"
   ]
  },
  {
   "cell_type": "code",
   "execution_count": null,
   "id": "2",
   "metadata": {
    "colab": {
     "base_uri": "https://localhost:8080/"
    },
    "id": "1ab730d0",
    "outputId": "d8f6dca9-68bc-44fc-ac65-a4b38562b0ac",
    "tags": []
   },
   "outputs": [],
   "source": [
    "SEED = 42\n",
    "\n",
    "dataset = load_dataset(\"ag_news\", cache_dir=\"./data\")\n",
    "dataset = dataset.shuffle(SEED)\n",
    "\n",
    "dataset[\"train\"] = dataset[\"train\"].select(range(400))\n",
    "\n",
    "subset = dataset[\"train\"].shuffle(SEED).train_test_split(0.1, seed=SEED)\n",
    "dataset[\"train\"] = subset[\"train\"]\n",
    "dataset[\"val\"] = subset[\"test\"]\n",
    "\n",
    "num_labels = len(torch.unique(torch.as_tensor([k[\"label\"] for k in dataset[\"train\"]])))\n",
    "\n",
    "# assert len(dataset[\"test\"]) == 7600, f'test set should not be touched but you have {len(dataset[\"test\"])} samples'\n",
    "# assert len(dataset[\"train\"]) == 3600, f'train set should be 3600 samples but you have {len(dataset[\"train\"])} samples'\n",
    "# assert len(dataset[\"val\"]) == 400, f'val set should be 400 samples but you have {len(dataset[\"val\"])} samples'"
   ]
  },
  {
   "cell_type": "code",
   "execution_count": null,
   "id": "3",
   "metadata": {
    "colab": {
     "base_uri": "https://localhost:8080/",
     "height": 273,
     "referenced_widgets": [
      "69060833b4fc4c808c82596d9986c052",
      "a0a8e759e7314a09befc469edf43b0ba",
      "c93adeddfccf4ea7932967e2a7e5e962",
      "8fa094b899854a168e5b2bfe61dd49f6",
      "bbfd061be4be482a8ee8e735dfabe246",
      "fd8f5be82e434f6990a67053f75e4324",
      "5100f8b0ad004beba5756a8847afaf8b",
      "abb805ac0a91488c840f741b4ffc6276",
      "97a4b79aa0b8449c8aeeb26b7d6116b1",
      "7b7122c7488a400da37b452db88faf57",
      "299f090b15b74524afa27ba8f47fb0d2",
      "359b0b4d29be4b76a40f41c9c2a5b71c",
      "9f25473422df4f4788a5fb5076857953",
      "1dfb0fc8837a4910bc2ced502bdd148a",
      "7edfeb0a0d4949e39357d8e56b9cbce9",
      "bb1a9f9a724a497e90b3a1f2d14471d4",
      "c725b44be3264fa3b06631f0c7c6bb5b",
      "cd11d65832634a79b3fb1189c68aa167",
      "516166b5f701418db0cc5186eca4f6f6",
      "8474d1f25c0e4266b37295d45e3b2448",
      "6ecfc714a0314a97a0df18e845ee03b5",
      "e32bfe4fb26f4eb8bc556aad5efe7c50",
      "8c3e0244cd894fc28491226d07b24e13",
      "8f6c5de4ebfb4d928c238d69fcc3b58b",
      "ae57773217aa4cb39c54be76e22bead8",
      "4e38272f223c40daa75c35649c420823",
      "eb874e94fc104097af65e6ce72ace353",
      "9793553d7ba5438f8f031f78a9d901cd",
      "8b136b2260ef44a9b5b97ad37394f6e5",
      "34f5a20006034739864bce6151ef68a6",
      "042328e9e55e40bbb370986995bcb271",
      "be8e141ac6fe404fb36a7d280f6587ff",
      "25e2dfc9311e41e0ad0f9876984f37f1",
      "dd38d6f75792423bb5db9f145f32ba9b",
      "333f66d8564f4608ae4e80139d8f7231",
      "329eb2ca7237440494ccebd314dc7563",
      "865a16be68464531bcf8b560e8b3ace5",
      "1b2b1e0969054067834c252ddc3b5e9e",
      "1af64cf773ef4222a74c8e018a497d6b",
      "444c151bb7bc47faa76a7a5b16d1ce42",
      "99df044c93534c1ea3c4f9e9f6a1e510",
      "a05b33e5e46e44e688a8124ae0b812a0",
      "34a82f9a4d0048f48e627e7cc1aaef29",
      "45f6f89fe5594a4dac8e6914d80bb201",
      "1ed14194f3f04ad68a7149db6e8f9792",
      "5953188cdb554ea39d4ece52f247b838",
      "d8bd93a3b0dd42eba22a255f2af4f9c7",
      "e11f2c3b8e2e4eae90c46f70da438ace",
      "f7597ba53efb4128987c96e6144c54a0",
      "3da2f67521c04776863e4f47b3ec7551",
      "4743796d029b44b79e14d9ab49255770",
      "ba8eafa41cfd4f10b9980bff7c7be969",
      "85c8c6c2ad9047c9a7b105a3333b1f3d",
      "465cb915f4504d42a9376f8c4caa3725",
      "4f90e509ed794da3b366e8c10403eb91",
      "129f10647d624493b47312780fb372e2",
      "209c70d0249948f6a12da7da11407aa5",
      "48b06bd16af2442c9da8b23e889611aa",
      "379eb4208dbc4a8390d51a29b89f6693",
      "b89a85ac91264b2d8352af20dac2b8a9",
      "2a70869868b44b42942220beedd10c7d",
      "a7c6ab6b711b44ddb7eda43399d3ca03",
      "3847919e4e7c4a4e802ac81ac9b61714",
      "4d4d2f2cf2b54ae3b1bef547deff3cbb",
      "2d4e4c02eefd457ba79a829ea0512ede",
      "6b9b1a210b9f4a948e4fe3e9fa925f8d",
      "be982ce37cde46849110e15a5bf689ab",
      "f7d21a2827c04482b7f139a3c89513fb",
      "8aa68358c76e407b8b82aee908ad8672",
      "509635ccf2c74b6bacdd909e1709f96e",
      "186ecbf1d2a54d53ad57ff0cf838934f",
      "fac07580ae284ec4a7357b2ca4ab8d26",
      "5d58b45cbe5940b8927697ce119dce2f",
      "2d5cd39778e34e2893df1fd1aa60098d",
      "ffb746c5701f4429baabf4ae7a33b2b5",
      "9de1445f0c4b47639fd8fa0f8357b902",
      "b4a88ffb9d7d4c5fba811c51e09489e8",
      "1003454f8f034ec7befe5a26ee4b616d",
      "2deca421450745119148e996cb549783",
      "0b70e31e894c44518c5301169245583f",
      "ec99a298e3f248deb005bc0ad5725f7e",
      "f567ce00b2c14bc99e9ea77e5e82891d",
      "b8abc8fceac14bc89e1793800cf794a0",
      "73c7269a1d674aeaa867bb5759318230",
      "7a13c16f79784cf8af53a782b526c079",
      "1352ab82a57e4650a67a7b8f9b05d02c",
      "7e67f7b996c649eab0ee66a4a9241473",
      "ef54988f37ef4a5cb7b3f42753a5da18"
     ]
    },
    "id": "f41eca2c",
    "outputId": "a8e6c53b-17d6-44d6-ccaf-84e7d09374b1",
    "tags": []
   },
   "outputs": [],
   "source": [
    "tokenizer = AutoTokenizer.from_pretrained(\"distilroberta-base\")\n",
    "\n",
    "\n",
    "def preprocess_function(sample: Dict[str, Any], seq_len: int):\n",
    "    \"\"\"\n",
    "    Function applied to all the examples in the Dataset (individually or in batches).\n",
    "    It accepts as input a sample as a dictionary and return a new dictionary with the BERT tokens for that sample\n",
    "    \"\"\"\n",
    "    t = tokenizer(\n",
    "        sample[\"text\"], padding=\"max_length\", truncation=True, max_length=seq_len\n",
    "    )\n",
    "    return t\n",
    "\n",
    "\n",
    "encoded_ds = dataset.map(preprocess_function, fn_kwargs={\"seq_len\": 256})"
   ]
  },
  {
   "cell_type": "code",
   "execution_count": null,
   "id": "4",
   "metadata": {
    "colab": {
     "base_uri": "https://localhost:8080/",
     "height": 378
    },
    "id": "a56c754d",
    "outputId": "3ecefc7e-9fe1-46f7-cf54-0d43865f3003",
    "tags": []
   },
   "outputs": [],
   "source": [
    "BATCH_SIZE = 32\n",
    "LR = 2e-5\n",
    "EPOCHS = 5\n",
    "\n",
    "args = TrainingArguments(\n",
    "    output_dir=\"nlp_course_from_pretrained\",\n",
    "    evaluation_strategy=\"epoch\",\n",
    "    save_strategy=\"no\",\n",
    "    learning_rate=LR,\n",
    "    per_device_train_batch_size=BATCH_SIZE,\n",
    "    per_device_eval_batch_size=BATCH_SIZE,\n",
    "    num_train_epochs=EPOCHS,\n",
    ")\n",
    "\n",
    "config = AutoConfig.from_pretrained(\"distilroberta-base\", num_labels=num_labels)\n",
    "model = AutoModelForSequenceClassification.from_pretrained(\n",
    "    \"distilroberta-base\", config=config\n",
    ")"
   ]
  },
  {
   "cell_type": "code",
   "execution_count": null,
   "id": "5",
   "metadata": {
    "tags": []
   },
   "outputs": [],
   "source": [
    "def compute_metrics(eval_pred: EvalPrediction):\n",
    "    \"\"\"Compute metrics at evaluation, return a dictionary string to metric values.\"\"\"\n",
    "    import evaluate\n",
    "\n",
    "    accuracy = evaluate.load(\"accuracy\")\n",
    "    predictions, labels = eval_pred\n",
    "    predictions = np.argmax(predictions, axis=1)\n",
    "    return accuracy.compute(predictions=predictions, references=labels)\n",
    "\n",
    "\n",
    "device = \"cuda:0\" if torch.cuda.is_available() else \"cpu\"\n",
    "#try:\n",
    "model = model.to(device)\n",
    "# except RuntimeError as error:\n",
    "#     error_message = str(error)\n",
    "#     if error_message.startswith(\"CUDA error: out of memory\"):\n",
    "#         print(\"out of memory\")\n",
    "#     else:\n",
    "#         print(error_message)\n",
    "# device"
   ]
  },
  {
   "cell_type": "code",
   "execution_count": null,
   "id": "6",
   "metadata": {},
   "outputs": [],
   "source": [
    "result = None\n",
    "\n",
    "try: \n",
    "    device = \"cuda:0\"\n",
    "    model = model.to(device)\n",
    "\n",
    "    trainer = Trainer(\n",
    "        model,\n",
    "        args,\n",
    "        train_dataset=encoded_ds[\"train\"],\n",
    "        eval_dataset=encoded_ds[\"val\"],\n",
    "        tokenizer=tokenizer,\n",
    "        compute_metrics=compute_metrics\n",
    "    )\n",
    "    trainer.train()\n",
    "    result = trainer.evaluate()\n",
    "\n",
    "except torch.cuda.OutOfMemoryError:\n",
    "    print(\"OOM2\")\n",
    "    result = \"out of memory\"\n",
    "\n",
    "except RuntimeError as error:\n",
    "    print(\"OOM1\")\n",
    "    print(type(error))\n",
    "    error_message = str(error)\n",
    "    print(error_message)\n",
    "    if error_message.startswith(\"CUDA error: out of memory\"):\n",
    "        result = \"out of memory\"\n",
    "\n",
    "else:\n",
    "    print(\"OK\")\n",
    "    result = result['eval_accuracy']"
   ]
  },
  {
   "cell_type": "code",
   "execution_count": null,
   "id": "7",
   "metadata": {},
   "outputs": [],
   "source": [
    "result"
   ]
  },
  {
   "cell_type": "code",
   "execution_count": null,
   "id": "8",
   "metadata": {
    "tags": []
   },
   "outputs": [],
   "source": [
    "#%%train_remote\n",
    "\n",
    "try: \n",
    "    trainer = Trainer(\n",
    "        model,\n",
    "        args,\n",
    "        train_dataset=encoded_ds[\"train\"],\n",
    "        eval_dataset=encoded_ds[\"val\"],\n",
    "        tokenizer=tokenizer,\n",
    "        compute_metrics=compute_metrics\n",
    "    )\n",
    "    trainer.train()\n",
    "except torch.cuda.OutOfMemoryError:\n",
    "    print(\"OOM :(\")\n"
   ]
  },
  {
   "cell_type": "code",
   "execution_count": null,
   "id": "9",
   "metadata": {},
   "outputs": [],
   "source": [
    "#%%without_cuda\n",
    "trainer = Trainer(\n",
    "    model,\n",
    "    args,\n",
    "    train_dataset=encoded_ds[\"train\"],\n",
    "    eval_dataset=encoded_ds[\"val\"],\n",
    "    tokenizer=tokenizer,\n",
    "    compute_metrics=compute_metrics,\n",
    ")\n",
    "result = trainer.evaluate()\n",
    "\n",
    "with open(\"result.log\", \"a\") as fp:\n",
    "    fp.write(f\"{KERNEL_ID},{result['eval_accuracy']}\")\n",
    "    fp.write(\"\\n\")"
   ]
  },
  {
   "cell_type": "code",
   "execution_count": null,
   "id": "10",
   "metadata": {},
   "outputs": [],
   "source": [
    "KERNEL_ID = 2"
   ]
  },
  {
   "cell_type": "code",
   "execution_count": null,
   "id": "11",
   "metadata": {},
   "outputs": [],
   "source": []
  }
 ],
 "metadata": {
  "accelerator": "GPU",
  "colab": {
   "gpuType": "T4",
   "provenance": []
  },
  "kernelspec": {
   "display_name": "Python 3 (ipykernel)",
   "language": "python",
   "name": "python3"
  },
  "language_info": {
   "codemirror_mode": {
    "name": "ipython",
    "version": 3
   },
   "file_extension": ".py",
   "mimetype": "text/x-python",
   "name": "python",
   "nbconvert_exporter": "python",
   "pygments_lexer": "ipython3",
   "version": "3.10.6"
  }
 },
 "nbformat": 4,
 "nbformat_minor": 5
}
